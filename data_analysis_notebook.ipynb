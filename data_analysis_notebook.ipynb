{
 "cells": [
  {
   "cell_type": "code",
   "execution_count": null,
   "id": "51bf6761",
   "metadata": {},
   "outputs": [],
   "source": [
    "import numpy\n",
    "import pandas\n",
    "import geopandas\n",
    "\n",
    "import matplotlib.pyplot as plt\n",
    "plt.rcParams.update({\"font.size\": 8})\n",
    "%matplotlib inline\n",
    "\n",
    "print(\"Done imports\")"
   ]
  },
  {
   "cell_type": "code",
   "execution_count": null,
   "id": "decb2a68",
   "metadata": {},
   "outputs": [],
   "source": [
    "# first survey CSV file with equipment testing data\n",
    "survey1_file = \"./data/yavatmal_rapid_pond_survey1_corrected.csv\"\n",
    "csv_yavatmal = pandas.read_csv(survey1_file, delimiter=\";\")\n",
    "csv_yavatmal = csv_yavatmal.round({\"pond_area\": 0})\n",
    "csv_yavatmal[\"pond_area\"] = csv_yavatmal[\"pond_area\"].astype(int)\n",
    "csv_yv_uq_area = csv_yavatmal[\"pond_area\"].unique()\n",
    "csv_yv_uq_frequency = csv_yavatmal[\"pond_area\"].value_counts(normalize=True, sort=False, dropna=False)"
   ]
  },
  {
   "cell_type": "code",
   "execution_count": null,
   "id": "84c4a890",
   "metadata": {},
   "outputs": [],
   "source": [
    "# second suvery CSV file focused on Ralegaon area\n",
    "survey2_file = \"./data/YavatmalRapidPond_survey2_corrected.csv\"\n",
    "csv_ralegaon = pandas.read_csv(survey2_file, delimiter=\",\", dtype={\"lat\": numpy.float32, \"long\": numpy.float32})\n",
    "csv_ralegaon = csv_ralegaon.round({\"area\": 0})\n",
    "csv_ralegaon[\"area\"] = csv_ralegaon[\"area\"].astype(int)\n",
    "csv_rg_uq_area = csv_ralegaon[\"area\"].unique()\n",
    "csv_rg_uq_frequency = csv_ralegaon[\"area\"].value_counts(normalize=True, sort=False, dropna=False)"
   ]
  },
  {
   "cell_type": "code",
   "execution_count": null,
   "id": "cb2933c6",
   "metadata": {},
   "outputs": [],
   "source": [
    "# all water bodies in Yavatmal district from overpass-turbo.eu\n",
    "osm_yavatmal_file = \"./data/yavatamal_all_water_bodies.geojson\"\n",
    "osm_yavatmal = geopandas.read_file(osm_yavatmal_file)\n",
    "osm_yavatmal = osm_yavatmal[osm_yavatmal[\"water\"] != \"river\"]  # dropping \"river\" noise\n",
    "osm_yavatmal[\"centroid\"] = osm_yavatmal[\"geometry\"].centroid\n",
    "osm_yavatmal = osm_yavatmal.to_crs({\"proj\": \"cea\"})\n",
    "osm_yavatmal[\"area\"] = osm_yavatmal[\"geometry\"].area  # /(10**6)  # if want area in sq.km.\n",
    "# osm_yavatmal[\"perimeter\"] = osm_yavatmal[\"geometry\"].length  # /(10**3)\n",
    "osm_yavatmal[\"area\"] = osm_yavatmal[\"area\"].astype(int)\n",
    "oms_yv_uq_area = osm_yavatmal[\"area\"].unique()\n",
    "osm_yv_uq_frequency = osm_yavatmal[\"area\"].value_counts(normalize=True, sort=False, dropna=False)"
   ]
  },
  {
   "cell_type": "code",
   "execution_count": null,
   "id": "34abbbc0",
   "metadata": {},
   "outputs": [],
   "source": [
    "# all water bodies in Ralegaon area from overpass-turbo.eu\n",
    "osm_ralegaon_file = \"./data/ralegaon_all_water_bodies.geojson\"\n",
    "osm_ralegaon = geopandas.read_file(osm_ralegaon_file)\n",
    "osm_ralegaon = osm_ralegaon[osm_ralegaon[\"water\"] != \"river\"]  # dropping \"river\" noise\n",
    "osm_ralegaon[\"centroid\"] = osm_ralegaon[\"geometry\"].centroid\n",
    "osm_ralegaon = osm_ralegaon.to_crs({\"proj\": \"cea\"})\n",
    "osm_ralegaon[\"area\"] = osm_ralegaon[\"geometry\"].area  # /(10**6)  # if want area in sq.km.\n",
    "# osm_ralegaon[\"perimeter\"] = osm_ralegaon[\"geometry\"].length  # /(10**3)\n",
    "osm_ralegaon[\"area\"] = osm_ralegaon[\"area\"].astype(int)\n",
    "oms_rg_uq_area = osm_ralegaon[\"area\"].unique()\n",
    "osm_rg_uq_frequency = osm_ralegaon[\"area\"].value_counts(normalize=True, sort=False, dropna=False)"
   ]
  },
  {
   "cell_type": "code",
   "execution_count": null,
   "id": "29c3a73d",
   "metadata": {},
   "outputs": [],
   "source": [
    "# plotting latitude and longitude of water bodies\n",
    "plt.figure(dpi=120)\n",
    "osm_ralegaon[\"centroid\"].plot(markersize=15, color=\"blue\", ax=plt.gca())\n",
    "csv_ralegaon.plot.scatter(\"long\", \"lat\", s=15, color=\"red\", ax=plt.gca())\n",
    "plt.title(\"Ralegaon OSM and Survey Lat/Lon\")\n",
    "plt.xlabel(\"Longitude\")\n",
    "plt.ylabel(\"Latitutde\")\n",
    "plt.grid(b=True, which=\"major\", axis=\"both\", linestyle=\"--\", linewidth=0.5)\n",
    "plt.legend([\"OSM\", \"Survey\"], loc=\"upper right\", bbox_to_anchor=(1.5, 1))\n",
    "plt.gca().set_aspect(\"equal\")\n",
    "plt.tight_layout()\n",
    "plt.savefig(\"./plots_results/ralegaon_osm_survey_lat_lon.png\", dpi=1200, facecolor=None, edgecolor=None,\n",
    "            orientation=\"portrait\", format=\"png\", transparent=False, bbox_inches=\"tight\", pad_inches=0.1, metadata=None)\n",
    "plt.show()"
   ]
  },
  {
   "cell_type": "code",
   "execution_count": null,
   "id": "6c8532e2",
   "metadata": {},
   "outputs": [],
   "source": [
    "# plotting latitude and longitude of water bodies\n",
    "plt.figure(dpi=120)\n",
    "osm_yavatmal[\"centroid\"].plot(markersize=15, color=\"blue\", ax=plt.gca())\n",
    "csv_ralegaon.plot.scatter(\"long\", \"lat\", s=15, color=\"red\", ax=plt.gca())\n",
    "plt.title(\"Yavatmal OSM and Survey Lat/Lon\")\n",
    "plt.xlabel(\"Longitude\")\n",
    "plt.ylabel(\"Latitutde\")\n",
    "plt.grid(b=True, which=\"major\", axis=\"both\", linestyle=\"--\", linewidth=0.5)\n",
    "plt.legend([\"OSM\", \"Survey-2\"], loc=\"upper right\", bbox_to_anchor=(1.2, 1))\n",
    "plt.tight_layout()\n",
    "plt.savefig(\"./plots_results/yavatmal_osm_survey_lat_lon.png\", dpi=1200, facecolor=\"w\", edgecolor=\"w\",\n",
    "            orientation=\"portrait\", format=\"png\", transparent=False, bbox_inches=\"tight\", pad_inches=0.1, metadata=None)\n",
    "plt.show()"
   ]
  },
  {
   "cell_type": "code",
   "execution_count": null,
   "id": "92ce38cd",
   "metadata": {},
   "outputs": [],
   "source": [
    "# plotting latitude and longitude of water bodies\n",
    "plt.figure(dpi=120)\n",
    "osm_yavatmal[\"centroid\"].plot(markersize=15, color=\"blue\", ax=plt.gca())\n",
    "csv_ralegaon.plot.scatter(\"long\", \"lat\", s=15, color=\"red\", ax=plt.gca())\n",
    "csv_yavatmal.plot.scatter(\"_Location of Pond_longitude\", \"_Location of Pond_latitude\",\n",
    "                          s=15, color=\"green\", ax=plt.gca())\n",
    "plt.title(\"Yavatmal OSM and Surveys Lat/Lon\")\n",
    "plt.xlabel(\"Longitude\")\n",
    "plt.ylabel(\"Latitutde\")\n",
    "plt.grid(b=True, which=\"major\", axis=\"both\", linestyle=\"--\", linewidth=0.5)\n",
    "plt.legend([\"OSM\", \"Survey-2\", \"Survey-1\"], loc=\"upper right\", bbox_to_anchor=(1.25, 1))\n",
    "plt.tight_layout()\n",
    "plt.savefig(\"./plots_results/yavatmal_osm_surveys_lat_lon.png\", dpi=1200, facecolor=\"w\", edgecolor=\"w\",\n",
    "            orientation=\"portrait\", format=\"png\", transparent=False, bbox_inches=\"tight\", pad_inches=0.1, metadata=None)\n",
    "plt.show()"
   ]
  },
  {
   "cell_type": "code",
   "execution_count": null,
   "id": "da276073",
   "metadata": {},
   "outputs": [],
   "source": [
    "# plotting area distribution\n",
    "plt.figure(dpi=120)\n",
    "plt.scatter(oms_yv_uq_area, osm_yv_uq_frequency, s=15, color=\"blue\", label=\"OSM Yavatmal\")\n",
    "plt.scatter(csv_rg_uq_area, csv_rg_uq_frequency, s=15, color=\"red\", label=\"Survey-2\")\n",
    "plt.scatter(csv_yv_uq_area, csv_yv_uq_frequency, s=15, color=\"green\", label=\"Survey-1\")\n",
    "plt.title(\"Yavatmal OSM and Surveys Area\")\n",
    "plt.xlabel(\"Area [Sq.mt.]\")\n",
    "plt.ylabel(\"Frequency [Normalized]\")\n",
    "plt.xscale(\"log\")\n",
    "plt.ylim(-0.1, 0.3)\n",
    "plt.grid(b=True, which=\"major\", axis=\"both\", linestyle=\"--\", linewidth=0.5)\n",
    "plt.legend(loc=\"upper right\", bbox_to_anchor=(1.35, 1))\n",
    "plt.tight_layout()\n",
    "plt.savefig(\"./plots_results/yavatmal_osm_surveys_areas.png\", dpi=1200, facecolor=\"w\", edgecolor=\"w\",\n",
    "            orientation=\"portrait\", format=\"png\", transparent=False, bbox_inches=\"tight\", pad_inches=0.1, metadata=None)\n",
    "plt.show()"
   ]
  },
  {
   "cell_type": "code",
   "execution_count": null,
   "id": "8bee8bbc",
   "metadata": {},
   "outputs": [],
   "source": [
    "# coordinate conversion test script\n",
    "# crs_system = [{\"proj\": \"cea\"}, {\"init\": \"epsg:3857\"}, {\"init\": \"epsg:32633\"}, {\"init\": \"epsg:3395\"}, {\"init\": \"epsg:6933\"}]\n",
    "# CEA coordinate system\n",
    "# osm_yavatmal = osm_yavatmal.to_crs({\"proj\": \"cea\"})\n",
    "\n",
    "# for onecrs in crs_system:\n",
    "#     print(onecrs)\n",
    "#     data_proj = osm_yavatmal.to_crs(onecrs)\n",
    "#     data_proj[\"area\"] = data_proj[\"geometry\"].area  # /(10**6)\n",
    "#     data_proj[\"perimeter\"] = data_proj[\"geometry\"].length  # /(10**3)\n",
    "#     print(data_proj[\"area\"])\n",
    "#     print(data_proj[\"perimeter\"])\n",
    "#     print(\"\\n\")"
   ]
  },
  {
   "cell_type": "code",
   "execution_count": null,
   "id": "02bcd99d",
   "metadata": {},
   "outputs": [],
   "source": [
    "print(\"\\n\\nDone\\n\\n\")"
   ]
  }
 ],
 "metadata": {
  "kernelspec": {
   "display_name": "Python 3 (ipykernel)",
   "language": "python",
   "name": "python3"
  },
  "language_info": {
   "codemirror_mode": {
    "name": "ipython",
    "version": 3
   },
   "file_extension": ".py",
   "mimetype": "text/x-python",
   "name": "python",
   "nbconvert_exporter": "python",
   "pygments_lexer": "ipython3",
   "version": "3.8.10"
  }
 },
 "nbformat": 4,
 "nbformat_minor": 5
}
